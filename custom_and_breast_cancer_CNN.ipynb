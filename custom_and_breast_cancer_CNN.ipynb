{
  "metadata": {
    "kernelspec": {
      "language": "python",
      "display_name": "Python 3",
      "name": "python3"
    },
    "language_info": {
      "name": "python",
      "version": "3.7.12",
      "mimetype": "text/x-python",
      "codemirror_mode": {
        "name": "ipython",
        "version": 3
      },
      "pygments_lexer": "ipython3",
      "nbconvert_exporter": "python",
      "file_extension": ".py"
    },
    "kaggle": {
      "accelerator": "none",
      "dataSources": [
        {
          "sourceId": 999617,
          "sourceType": "datasetVersion",
          "datasetId": 209316
        },
        {
          "sourceId": 4559682,
          "sourceType": "datasetVersion",
          "datasetId": 2661172
        }
      ],
      "dockerImageVersionId": 30301,
      "isInternetEnabled": false,
      "language": "python",
      "sourceType": "notebook",
      "isGpuEnabled": false
    },
    "colab": {
      "name": "custom and  breast cancer CNN ",
      "provenance": [],
      "include_colab_link": true
    }
  },
  "nbformat_minor": 0,
  "nbformat": 4,
  "cells": [
    {
      "cell_type": "markdown",
      "metadata": {
        "id": "view-in-github",
        "colab_type": "text"
      },
      "source": [
        "<a href=\"https://colab.research.google.com/github/aaaadigup/BREAST_PROJECT/blob/main/custom_and_breast_cancer_CNN.ipynb\" target=\"_parent\"><img src=\"https://colab.research.google.com/assets/colab-badge.svg\" alt=\"Open In Colab\"/></a>"
      ]
    },
    {
      "source": [
        "# IMPORTANT: RUN THIS CELL IN ORDER TO IMPORT YOUR KAGGLE DATA SOURCES,\n",
        "# THEN FEEL FREE TO DELETE THIS CELL.\n",
        "# NOTE: THIS NOTEBOOK ENVIRONMENT DIFFERS FROM KAGGLE'S PYTHON\n",
        "# ENVIRONMENT SO THERE MAY BE MISSING LIBRARIES USED BY YOUR\n",
        "# NOTEBOOK.\n",
        "import kagglehub\n",
        "ambarish_breakhis_path = kagglehub.dataset_download('ambarish/breakhis')\n",
        "\n",
        "print('Data source import complete.')\n"
      ],
      "metadata": {
        "id": "KSCsaUCRPtlF"
      },
      "cell_type": "code",
      "outputs": [],
      "execution_count": null
    },
    {
      "cell_type": "code",
      "source": [
        "#Importing libraries\n",
        "import numpy as np\n",
        "import pandas as pd\n",
        "import matplotlib.pyplot as plt\n",
        "import seaborn as sns\n",
        "import sklearn\n",
        "import os\n",
        "import shutil\n",
        "import cv2\n",
        "from sklearn.model_selection import train_test_split\n",
        "from sklearn.metrics import confusion_matrix, classification_report, accuracy_score, precision_score, recall_score, f1_score"
      ],
      "metadata": {
        "_uuid": "8f2839f25d086af736a60e9eeb907d3b93b6e0e5",
        "_cell_guid": "b1076dfc-b9ad-4769-8c92-a6c4dae69d19",
        "execution": {
          "iopub.status.busy": "2025-02-07T11:24:51.319274Z",
          "iopub.status.idle": "2025-02-07T11:24:51.319684Z",
          "shell.execute_reply.started": "2025-02-07T11:24:51.31946Z",
          "shell.execute_reply": "2025-02-07T11:24:51.319487Z"
        },
        "trusted": true,
        "id": "0NbJAz6_PtlI"
      },
      "outputs": [],
      "execution_count": null
    },
    {
      "cell_type": "markdown",
      "source": [
        "**LOAD DATA**"
      ],
      "metadata": {
        "id": "9HxcNSCePtlJ"
      }
    },
    {
      "cell_type": "code",
      "source": [
        "#Loading the text file\n",
        "df = pd.read_csv(\"../input/breakhis/Folds.csv\")"
      ],
      "metadata": {
        "execution": {
          "iopub.status.busy": "2025-02-07T11:24:51.321426Z",
          "iopub.status.idle": "2025-02-07T11:24:51.321787Z",
          "shell.execute_reply.started": "2025-02-07T11:24:51.321609Z",
          "shell.execute_reply": "2025-02-07T11:24:51.321627Z"
        },
        "trusted": true,
        "id": "mu0RwuJ3PtlK"
      },
      "outputs": [],
      "execution_count": null
    },
    {
      "cell_type": "code",
      "source": [
        "df.info()"
      ],
      "metadata": {
        "execution": {
          "iopub.status.busy": "2025-02-07T11:24:51.323637Z",
          "iopub.status.idle": "2025-02-07T11:24:51.324034Z",
          "shell.execute_reply.started": "2025-02-07T11:24:51.323843Z",
          "shell.execute_reply": "2025-02-07T11:24:51.323862Z"
        },
        "trusted": true,
        "id": "z2OyHKxIPtlK"
      },
      "outputs": [],
      "execution_count": null
    },
    {
      "cell_type": "code",
      "source": [
        "#Show first 5 entries\n",
        "df.head()"
      ],
      "metadata": {
        "execution": {
          "iopub.status.busy": "2025-02-07T11:24:51.325485Z",
          "iopub.status.idle": "2025-02-07T11:24:51.325848Z",
          "shell.execute_reply.started": "2025-02-07T11:24:51.325653Z",
          "shell.execute_reply": "2025-02-07T11:24:51.325669Z"
        },
        "trusted": true,
        "id": "A0oMdFSkPtlL"
      },
      "outputs": [],
      "execution_count": null
    },
    {
      "cell_type": "code",
      "source": [
        "#Show last 5 entries\n",
        "df.tail()"
      ],
      "metadata": {
        "execution": {
          "iopub.status.busy": "2025-02-07T11:24:51.327036Z",
          "iopub.status.idle": "2025-02-07T11:24:51.327403Z",
          "shell.execute_reply.started": "2025-02-07T11:24:51.327217Z",
          "shell.execute_reply": "2025-02-07T11:24:51.327236Z"
        },
        "trusted": true,
        "id": "FS4fHxoEPtlL"
      },
      "outputs": [],
      "execution_count": null
    },
    {
      "cell_type": "code",
      "source": [
        "print(\"Number of missing values in each column are: \\n\", df.isnull().sum())"
      ],
      "metadata": {
        "execution": {
          "iopub.status.busy": "2025-02-07T11:24:51.405987Z",
          "iopub.execute_input": "2025-02-07T11:24:51.406376Z",
          "iopub.status.idle": "2025-02-07T11:24:51.421551Z",
          "shell.execute_reply.started": "2025-02-07T11:24:51.406347Z",
          "shell.execute_reply": "2025-02-07T11:24:51.419857Z"
        },
        "trusted": true,
        "id": "-wlR3w2KPtlL"
      },
      "outputs": [],
      "execution_count": null
    },
    {
      "cell_type": "code",
      "source": [
        "df['fold'].value_counts()"
      ],
      "metadata": {
        "execution": {
          "iopub.status.busy": "2025-02-07T11:24:51.422998Z",
          "iopub.status.idle": "2025-02-07T11:24:51.423575Z",
          "shell.execute_reply.started": "2025-02-07T11:24:51.423288Z",
          "shell.execute_reply": "2025-02-07T11:24:51.423319Z"
        },
        "trusted": true,
        "id": "NSPE9KhdPtlL"
      },
      "outputs": [],
      "execution_count": null
    },
    {
      "cell_type": "markdown",
      "source": [
        "**Checking for duplicates**"
      ],
      "metadata": {
        "id": "mXVE6LulPtlL"
      }
    },
    {
      "cell_type": "code",
      "source": [
        "#find duplicate rows across specific columns\n",
        "duplicateRows = df[df.duplicated(['mag', 'grp', 'filename'])]"
      ],
      "metadata": {
        "execution": {
          "iopub.status.busy": "2025-02-07T11:24:51.425139Z",
          "iopub.status.idle": "2025-02-07T11:24:51.425594Z",
          "shell.execute_reply.started": "2025-02-07T11:24:51.425402Z",
          "shell.execute_reply": "2025-02-07T11:24:51.425423Z"
        },
        "trusted": true,
        "id": "-ScOp1WfPtlM"
      },
      "outputs": [],
      "execution_count": null
    },
    {
      "cell_type": "code",
      "source": [
        "duplicateRows"
      ],
      "metadata": {
        "execution": {
          "iopub.status.busy": "2025-02-07T11:24:51.426778Z",
          "iopub.status.idle": "2025-02-07T11:24:51.427256Z",
          "shell.execute_reply.started": "2025-02-07T11:24:51.427051Z",
          "shell.execute_reply": "2025-02-07T11:24:51.427076Z"
        },
        "trusted": true,
        "id": "-AJo9_EmPtlM"
      },
      "outputs": [],
      "execution_count": null
    },
    {
      "cell_type": "markdown",
      "source": [
        "**Drop duplicates**"
      ],
      "metadata": {
        "id": "Hzxb-sB3PtlM"
      }
    },
    {
      "cell_type": "code",
      "source": [
        "dataset = df.iloc[:7909, :]"
      ],
      "metadata": {
        "execution": {
          "iopub.status.busy": "2025-02-07T11:24:51.429108Z",
          "iopub.status.idle": "2025-02-07T11:24:51.42997Z",
          "shell.execute_reply.started": "2025-02-07T11:24:51.429654Z",
          "shell.execute_reply": "2025-02-07T11:24:51.429683Z"
        },
        "trusted": true,
        "id": "JwfsdIcAPtlM"
      },
      "outputs": [],
      "execution_count": null
    },
    {
      "cell_type": "code",
      "source": [
        "dataset"
      ],
      "metadata": {
        "execution": {
          "iopub.status.busy": "2025-02-07T11:24:53.851946Z",
          "iopub.execute_input": "2025-02-07T11:24:53.852359Z",
          "iopub.status.idle": "2025-02-07T11:24:53.867263Z",
          "shell.execute_reply.started": "2025-02-07T11:24:53.852325Z",
          "shell.execute_reply": "2025-02-07T11:24:53.865873Z"
        },
        "trusted": true,
        "id": "rEe_bxQpPtlM"
      },
      "outputs": [],
      "execution_count": null
    },
    {
      "cell_type": "code",
      "source": [
        "#Renaming the column filename to path\n",
        "dataset = dataset.rename(columns = {\"filename\":\"path\"})\n",
        "#Show first 5 entries\n",
        "dataset.head()"
      ],
      "metadata": {
        "execution": {
          "iopub.status.busy": "2022-11-21T22:21:00.991985Z",
          "iopub.execute_input": "2022-11-21T22:21:00.992378Z",
          "iopub.status.idle": "2022-11-21T22:21:01.006118Z",
          "shell.execute_reply.started": "2022-11-21T22:21:00.992347Z",
          "shell.execute_reply": "2022-11-21T22:21:01.004715Z"
        },
        "trusted": true,
        "id": "F9CxsV9CPtlN"
      },
      "outputs": [],
      "execution_count": null
    },
    {
      "cell_type": "markdown",
      "source": [
        "**Extracting file name, class and subclass labels from the path column**"
      ],
      "metadata": {
        "id": "NvDguTlFPtlN"
      }
    },
    {
      "cell_type": "code",
      "source": [
        "#Creating new columns for the filename, file location and labels from the path column\n",
        "dataset['filename'] = dataset['path'].apply(lambda x:x.split(\"/\")[-1])\n",
        "dataset[\"label\"] = dataset['path'].apply(lambda x: x.split(\"/\")[3])\n",
        "dataset[\"sublabel\"] = dataset['path'].apply(lambda x: x.split(\"/\")[5])\n",
        "dataset['file_loc'] = dataset['label'] + \"_\" + dataset['filename']"
      ],
      "metadata": {
        "execution": {
          "iopub.status.busy": "2022-11-21T22:21:01.534383Z",
          "iopub.execute_input": "2022-11-21T22:21:01.534778Z",
          "iopub.status.idle": "2022-11-21T22:21:01.561928Z",
          "shell.execute_reply.started": "2022-11-21T22:21:01.534746Z",
          "shell.execute_reply": "2022-11-21T22:21:01.56039Z"
        },
        "trusted": true,
        "id": "AUp4p7bmPtlN"
      },
      "outputs": [],
      "execution_count": null
    },
    {
      "cell_type": "code",
      "source": [
        "#Show first 5 entries\n",
        "dataset.head()"
      ],
      "metadata": {
        "execution": {
          "iopub.status.busy": "2022-11-21T22:21:01.564299Z",
          "iopub.execute_input": "2022-11-21T22:21:01.564642Z",
          "iopub.status.idle": "2022-11-21T22:21:01.582612Z",
          "shell.execute_reply.started": "2022-11-21T22:21:01.564612Z",
          "shell.execute_reply": "2022-11-21T22:21:01.581356Z"
        },
        "trusted": true,
        "id": "B_CTuFAJPtlN"
      },
      "outputs": [],
      "execution_count": null
    },
    {
      "cell_type": "markdown",
      "source": [
        "**Encoding the class to integer**"
      ],
      "metadata": {
        "id": "rB0m-mOsPtlN"
      }
    },
    {
      "cell_type": "markdown",
      "source": [
        "Setting benign to 0\n",
        "Setting Malignant to 1"
      ],
      "metadata": {
        "id": "_tIMUNZXPtlO"
      }
    },
    {
      "cell_type": "code",
      "source": [
        "#Encoding the class to integer\n",
        "dataset['class'] = dataset['label'].apply(lambda x: 0 if x =='benign' else 1)"
      ],
      "metadata": {
        "execution": {
          "iopub.status.busy": "2022-11-21T22:21:01.625057Z",
          "iopub.execute_input": "2022-11-21T22:21:01.625408Z",
          "iopub.status.idle": "2022-11-21T22:21:01.635639Z",
          "shell.execute_reply.started": "2022-11-21T22:21:01.625381Z",
          "shell.execute_reply": "2022-11-21T22:21:01.633888Z"
        },
        "trusted": true,
        "id": "17kQ8w1hPtlO"
      },
      "outputs": [],
      "execution_count": null
    },
    {
      "cell_type": "code",
      "source": [
        "#Show first 5 entries\n",
        "dataset.head()"
      ],
      "metadata": {
        "execution": {
          "iopub.status.busy": "2022-11-21T22:21:01.691819Z",
          "iopub.execute_input": "2022-11-21T22:21:01.692181Z",
          "iopub.status.idle": "2022-11-21T22:21:01.706595Z",
          "shell.execute_reply.started": "2022-11-21T22:21:01.692151Z",
          "shell.execute_reply": "2022-11-21T22:21:01.705434Z"
        },
        "trusted": true,
        "id": "cOD1i7uKPtlO"
      },
      "outputs": [],
      "execution_count": null
    },
    {
      "cell_type": "code",
      "source": [
        "#Show last 5 entries\n",
        "dataset.tail()"
      ],
      "metadata": {
        "execution": {
          "iopub.status.busy": "2022-11-21T22:21:01.744858Z",
          "iopub.execute_input": "2022-11-21T22:21:01.745265Z",
          "iopub.status.idle": "2022-11-21T22:21:01.759124Z",
          "shell.execute_reply.started": "2022-11-21T22:21:01.745231Z",
          "shell.execute_reply": "2022-11-21T22:21:01.758071Z"
        },
        "trusted": true,
        "id": "uIDWANNGPtlO"
      },
      "outputs": [],
      "execution_count": null
    },
    {
      "cell_type": "code",
      "source": [
        "#Plot illustrating data distribution\n",
        "plt.figure(figsize=(10,6))\n",
        "sns.set(font_scale = 1.5)\n",
        "sns.set_style(\"darkgrid\")\n",
        "sns.countplot(dataset['label']);\n",
        "plt.xlabel(\"Class\")\n",
        "plt.title(\"Number of Patients Benign and Malignant\");"
      ],
      "metadata": {
        "execution": {
          "iopub.status.busy": "2022-11-21T22:21:01.797375Z",
          "iopub.execute_input": "2022-11-21T22:21:01.797888Z",
          "iopub.status.idle": "2022-11-21T22:21:01.992123Z",
          "shell.execute_reply.started": "2022-11-21T22:21:01.797788Z",
          "shell.execute_reply": "2022-11-21T22:21:01.991227Z"
        },
        "trusted": true,
        "id": "MlBG6bI4PtlO"
      },
      "outputs": [],
      "execution_count": null
    },
    {
      "cell_type": "code",
      "source": [
        "print('Number of samples for each class: \\n', dataset[\"class\"].value_counts())"
      ],
      "metadata": {
        "execution": {
          "iopub.status.busy": "2022-11-21T22:21:01.993683Z",
          "iopub.execute_input": "2022-11-21T22:21:01.993979Z",
          "iopub.status.idle": "2022-11-21T22:21:02.001758Z",
          "shell.execute_reply.started": "2022-11-21T22:21:01.993952Z",
          "shell.execute_reply": "2022-11-21T22:21:02.000612Z"
        },
        "trusted": true,
        "id": "YZtf1_6tPtlO"
      },
      "outputs": [],
      "execution_count": null
    },
    {
      "cell_type": "markdown",
      "source": [
        "**Extracting images from the folders**"
      ],
      "metadata": {
        "id": "zF-rVx2lPtlP"
      }
    },
    {
      "cell_type": "code",
      "source": [
        "#Creating new directory\n",
        "os.makedirs(\"../Image_Dataset/\")"
      ],
      "metadata": {
        "execution": {
          "iopub.status.busy": "2022-11-21T22:21:02.003146Z",
          "iopub.execute_input": "2022-11-21T22:21:02.003439Z",
          "iopub.status.idle": "2022-11-21T22:21:02.011546Z",
          "shell.execute_reply.started": "2022-11-21T22:21:02.003414Z",
          "shell.execute_reply": "2022-11-21T22:21:02.010573Z"
        },
        "trusted": true,
        "id": "QCbF2IkuPtlP"
      },
      "outputs": [],
      "execution_count": null
    },
    {
      "cell_type": "code",
      "source": [
        "#Creating new directory for benign\n",
        "os.makedirs(\"../Image_Dataset/Benign/\")"
      ],
      "metadata": {
        "execution": {
          "iopub.status.busy": "2022-11-21T22:21:02.013741Z",
          "iopub.execute_input": "2022-11-21T22:21:02.014034Z",
          "iopub.status.idle": "2022-11-21T22:21:02.02888Z",
          "shell.execute_reply.started": "2022-11-21T22:21:02.01401Z",
          "shell.execute_reply": "2022-11-21T22:21:02.028Z"
        },
        "trusted": true,
        "id": "pgzFlPpXPtlP"
      },
      "outputs": [],
      "execution_count": null
    },
    {
      "cell_type": "code",
      "source": [
        "#Creating new directory for malignant\n",
        "os.makedirs(\"../Image_Dataset/Malignant/\")"
      ],
      "metadata": {
        "execution": {
          "iopub.status.busy": "2022-11-21T22:21:02.02979Z",
          "iopub.execute_input": "2022-11-21T22:21:02.030066Z",
          "iopub.status.idle": "2022-11-21T22:21:02.04052Z",
          "shell.execute_reply.started": "2022-11-21T22:21:02.03004Z",
          "shell.execute_reply": "2022-11-21T22:21:02.03879Z"
        },
        "trusted": true,
        "id": "KGotVOE0PtlP"
      },
      "outputs": [],
      "execution_count": null
    },
    {
      "cell_type": "code",
      "source": [
        "#Moving all the images into one folder (Image_Dataset)\n",
        "i = 0\n",
        "for p in dataset['path']:\n",
        "    src = \"../input/breakhis/BreaKHis_v1/\" + p\n",
        "    dest = \"../Image_Dataset/\"\n",
        "    if dataset[\"class\"][i] == 0:\n",
        "        dest = \"../Image_Dataset/Benign/\"\n",
        "    else:\n",
        "        dest = \"../Image_Dataset/Malignant/\"\n",
        "    #saving the files with its corresponding class and patient_id\n",
        "    dest = os.path.join(dest,src.split(\"/\")[7]+ \"_\" + src.split(\"/\")[-1])\n",
        "    shutil.copyfile(src,dest)\n",
        "    i +=1"
      ],
      "metadata": {
        "execution": {
          "iopub.status.busy": "2022-11-21T22:21:02.042867Z",
          "iopub.execute_input": "2022-11-21T22:21:02.043214Z",
          "iopub.status.idle": "2022-11-21T22:22:48.45361Z",
          "shell.execute_reply.started": "2022-11-21T22:21:02.043182Z",
          "shell.execute_reply": "2022-11-21T22:22:48.451586Z"
        },
        "trusted": true,
        "id": "qnlnTxwFPtlP"
      },
      "outputs": [],
      "execution_count": null
    },
    {
      "cell_type": "code",
      "source": [
        "#Checking the len\n",
        "len(os.listdir(\"../Image_Dataset/\"))"
      ],
      "metadata": {
        "execution": {
          "iopub.status.busy": "2022-11-21T22:22:48.457283Z",
          "iopub.execute_input": "2022-11-21T22:22:48.457845Z",
          "iopub.status.idle": "2022-11-21T22:22:48.468829Z",
          "shell.execute_reply.started": "2022-11-21T22:22:48.45779Z",
          "shell.execute_reply": "2022-11-21T22:22:48.467628Z"
        },
        "trusted": true,
        "id": "OgJEkMtrPtlP"
      },
      "outputs": [],
      "execution_count": null
    },
    {
      "cell_type": "code",
      "source": [
        "#Check the directories present\n",
        "os.listdir(\"../Image_Dataset/\")"
      ],
      "metadata": {
        "execution": {
          "iopub.status.busy": "2022-11-21T22:22:48.470575Z",
          "iopub.execute_input": "2022-11-21T22:22:48.470977Z",
          "iopub.status.idle": "2022-11-21T22:22:48.486323Z",
          "shell.execute_reply.started": "2022-11-21T22:22:48.470945Z",
          "shell.execute_reply": "2022-11-21T22:22:48.485426Z"
        },
        "trusted": true,
        "id": "2FarZUDfPtlQ"
      },
      "outputs": [],
      "execution_count": null
    },
    {
      "cell_type": "code",
      "source": [
        "#Check number of images in each folder\n",
        "path = \"../Image_Dataset/\"\n",
        "dir_list = [os.path.join(path,i) for i in os.listdir(path)]\n",
        "size_dict = {}\n",
        "for i,value in enumerate(dir_list):\n",
        "    size_dict[os.listdir(path)[i]] = len(os.listdir(value))\n",
        "size_dict"
      ],
      "metadata": {
        "execution": {
          "iopub.status.busy": "2022-11-21T22:22:48.488523Z",
          "iopub.execute_input": "2022-11-21T22:22:48.490296Z",
          "iopub.status.idle": "2022-11-21T22:22:48.505961Z",
          "shell.execute_reply.started": "2022-11-21T22:22:48.490175Z",
          "shell.execute_reply": "2022-11-21T22:22:48.504593Z"
        },
        "trusted": true,
        "id": "Os_vtEq-PtlQ"
      },
      "outputs": [],
      "execution_count": null
    },
    {
      "cell_type": "code",
      "source": [
        "#Function to read the dataset from a specified directory\n",
        "def import_images(folder,target):\n",
        "    images = []\n",
        "    for item in os.listdir(folder):\n",
        "        img = cv2.imread(os.path.join(folder,item), cv2.IMREAD_COLOR)\n",
        "        img = cv2.resize(img, (224, 224))\n",
        "        img = cv2.cvtColor(img, cv2.COLOR_BGR2RGB)\n",
        "        if img is not None:\n",
        "            images.append([img,target])\n",
        "    return images"
      ],
      "metadata": {
        "execution": {
          "iopub.status.busy": "2022-11-21T22:22:48.507738Z",
          "iopub.execute_input": "2022-11-21T22:22:48.508187Z",
          "iopub.status.idle": "2022-11-21T22:22:48.519038Z",
          "shell.execute_reply.started": "2022-11-21T22:22:48.508139Z",
          "shell.execute_reply": "2022-11-21T22:22:48.517734Z"
        },
        "trusted": true,
        "id": "JP7mwTSjPtlQ"
      },
      "outputs": [],
      "execution_count": null
    },
    {
      "cell_type": "code",
      "source": [
        "#Importing the dataset from the specified directory using the created function and assign them with labels\n",
        "#Where 0 is for Benign, 1 is malignant and 1 is for Malignant\n",
        "benign = import_images(\"../Image_Dataset/Benign\",0)\n",
        "malignant = import_images(\"../Image_Dataset/Malignant\",1)"
      ],
      "metadata": {
        "execution": {
          "iopub.status.busy": "2022-11-21T22:22:48.520542Z",
          "iopub.execute_input": "2022-11-21T22:22:48.520903Z",
          "iopub.status.idle": "2022-11-21T22:24:10.211732Z",
          "shell.execute_reply.started": "2022-11-21T22:22:48.520872Z",
          "shell.execute_reply": "2022-11-21T22:24:10.209768Z"
        },
        "trusted": true,
        "id": "E7HfGqAJPtlQ"
      },
      "outputs": [],
      "execution_count": null
    },
    {
      "cell_type": "code",
      "source": [
        "#Plotting the benign sample\n",
        "plt.title('Benign')\n",
        "plt.imshow(benign[0][0])"
      ],
      "metadata": {
        "execution": {
          "iopub.status.busy": "2022-11-21T22:24:10.213547Z",
          "iopub.execute_input": "2022-11-21T22:24:10.214029Z",
          "iopub.status.idle": "2022-11-21T22:24:10.429005Z",
          "shell.execute_reply.started": "2022-11-21T22:24:10.21399Z",
          "shell.execute_reply": "2022-11-21T22:24:10.427999Z"
        },
        "trusted": true,
        "id": "Ez4s3kzjPtlR"
      },
      "outputs": [],
      "execution_count": null
    },
    {
      "cell_type": "code",
      "source": [
        "#Here is a sample of an image in the dataset\n",
        "plt.title('Malignant')\n",
        "plt.imshow(malignant[0][0])"
      ],
      "metadata": {
        "execution": {
          "iopub.status.busy": "2022-11-21T22:24:10.430335Z",
          "iopub.execute_input": "2022-11-21T22:24:10.431483Z",
          "iopub.status.idle": "2022-11-21T22:24:10.633729Z",
          "shell.execute_reply.started": "2022-11-21T22:24:10.431418Z",
          "shell.execute_reply": "2022-11-21T22:24:10.632277Z"
        },
        "trusted": true,
        "id": "JtZPo-QYPtlR"
      },
      "outputs": [],
      "execution_count": null
    },
    {
      "cell_type": "code",
      "source": [
        "#Joining all the dataset together\n",
        "benign.extend(malignant)"
      ],
      "metadata": {
        "execution": {
          "iopub.status.busy": "2022-11-21T22:24:10.635029Z",
          "iopub.execute_input": "2022-11-21T22:24:10.635359Z",
          "iopub.status.idle": "2022-11-21T22:24:10.641415Z",
          "shell.execute_reply.started": "2022-11-21T22:24:10.635328Z",
          "shell.execute_reply": "2022-11-21T22:24:10.63973Z"
        },
        "trusted": true,
        "id": "Ls_IJZfxPtlR"
      },
      "outputs": [],
      "execution_count": null
    },
    {
      "cell_type": "code",
      "source": [
        "#Assigning the dataset to a new variable\n",
        "full_data = benign"
      ],
      "metadata": {
        "execution": {
          "iopub.status.busy": "2022-11-21T22:24:10.645573Z",
          "iopub.execute_input": "2022-11-21T22:24:10.645994Z",
          "iopub.status.idle": "2022-11-21T22:24:10.655012Z",
          "shell.execute_reply.started": "2022-11-21T22:24:10.645955Z",
          "shell.execute_reply": "2022-11-21T22:24:10.653997Z"
        },
        "trusted": true,
        "id": "krNH4B6-PtlS"
      },
      "outputs": [],
      "execution_count": null
    },
    {
      "cell_type": "code",
      "source": [
        "#Performing the dataset splitting into training and test set\n",
        "training_data, test_dataset = train_test_split(full_data, test_size = 0.2, random_state = 30)"
      ],
      "metadata": {
        "execution": {
          "iopub.status.busy": "2022-11-21T22:24:10.656274Z",
          "iopub.execute_input": "2022-11-21T22:24:10.657148Z",
          "iopub.status.idle": "2022-11-21T22:24:10.674179Z",
          "shell.execute_reply.started": "2022-11-21T22:24:10.657113Z",
          "shell.execute_reply": "2022-11-21T22:24:10.673195Z"
        },
        "trusted": true,
        "id": "5c-devFxPtlS"
      },
      "outputs": [],
      "execution_count": null
    },
    {
      "cell_type": "code",
      "source": [
        "#Extracting validation dataset from the training data\n",
        "training_dataset, val_dataset = train_test_split(training_data, test_size = 0.2, random_state = 30)"
      ],
      "metadata": {
        "execution": {
          "iopub.status.busy": "2022-11-21T22:24:10.675351Z",
          "iopub.execute_input": "2022-11-21T22:24:10.676993Z",
          "iopub.status.idle": "2022-11-21T22:24:10.68956Z",
          "shell.execute_reply.started": "2022-11-21T22:24:10.676936Z",
          "shell.execute_reply": "2022-11-21T22:24:10.688691Z"
        },
        "trusted": true,
        "id": "uqfwXqMzPtlS"
      },
      "outputs": [],
      "execution_count": null
    },
    {
      "cell_type": "code",
      "source": [
        "\"\"\"Function to separate the dataset into images and label puting the images in array called feature_map and labels into\n",
        "array called label\"\"\"\n",
        "\n",
        "def split_data(main_data):\n",
        "    feature_matrix = []\n",
        "    label = []\n",
        "    for x,y in main_data:\n",
        "        feature_matrix.append(x)\n",
        "        label.append(y)\n",
        "    return np.array(feature_matrix), np.array(label)"
      ],
      "metadata": {
        "execution": {
          "iopub.status.busy": "2022-11-21T22:24:10.690711Z",
          "iopub.execute_input": "2022-11-21T22:24:10.692101Z",
          "iopub.status.idle": "2022-11-21T22:24:10.702544Z",
          "shell.execute_reply.started": "2022-11-21T22:24:10.692036Z",
          "shell.execute_reply": "2022-11-21T22:24:10.700928Z"
        },
        "trusted": true,
        "id": "f2vOvWS0PtlT"
      },
      "outputs": [],
      "execution_count": null
    },
    {
      "cell_type": "markdown",
      "source": [
        "# **Extracting Training dataset**"
      ],
      "metadata": {
        "id": "4Lr7dVX2PtlT"
      }
    },
    {
      "cell_type": "code",
      "source": [
        "#Extract validation images and labels\n",
        "training_images, training_labels = split_data(training_dataset)"
      ],
      "metadata": {
        "execution": {
          "iopub.status.busy": "2022-11-21T22:24:10.705037Z",
          "iopub.execute_input": "2022-11-21T22:24:10.705552Z",
          "iopub.status.idle": "2022-11-21T22:24:10.878284Z",
          "shell.execute_reply.started": "2022-11-21T22:24:10.705513Z",
          "shell.execute_reply": "2022-11-21T22:24:10.876282Z"
        },
        "trusted": true,
        "id": "mYyV8vPIPtlT"
      },
      "outputs": [],
      "execution_count": null
    },
    {
      "cell_type": "code",
      "source": [
        "# Normalize images\n",
        "training_images = np.array(training_images, dtype=\"float\") / 255.0"
      ],
      "metadata": {
        "execution": {
          "iopub.status.busy": "2022-11-21T22:24:10.880134Z",
          "iopub.execute_input": "2022-11-21T22:24:10.881112Z",
          "iopub.status.idle": "2022-11-21T22:24:12.122375Z",
          "shell.execute_reply.started": "2022-11-21T22:24:10.881063Z",
          "shell.execute_reply": "2022-11-21T22:24:12.12146Z"
        },
        "trusted": true,
        "id": "hcYtd1lrPtlT"
      },
      "outputs": [],
      "execution_count": null
    },
    {
      "cell_type": "code",
      "source": [
        "#The shape of the datasets\n",
        "print(training_images.shape)\n",
        "print(training_labels.shape)"
      ],
      "metadata": {
        "execution": {
          "iopub.status.busy": "2022-11-21T22:24:12.123863Z",
          "iopub.execute_input": "2022-11-21T22:24:12.124241Z",
          "iopub.status.idle": "2022-11-21T22:24:12.130387Z",
          "shell.execute_reply.started": "2022-11-21T22:24:12.12421Z",
          "shell.execute_reply": "2022-11-21T22:24:12.129082Z"
        },
        "trusted": true,
        "id": "U0GTRgP7PtlT"
      },
      "outputs": [],
      "execution_count": null
    },
    {
      "cell_type": "code",
      "source": [
        "#The first image as a picture\n",
        "plt.imshow(training_images[0])"
      ],
      "metadata": {
        "execution": {
          "iopub.status.busy": "2022-11-21T22:24:12.131938Z",
          "iopub.execute_input": "2022-11-21T22:24:12.132255Z",
          "iopub.status.idle": "2022-11-21T22:24:12.343466Z",
          "shell.execute_reply.started": "2022-11-21T22:24:12.132228Z",
          "shell.execute_reply": "2022-11-21T22:24:12.342047Z"
        },
        "trusted": true,
        "id": "D5qQwpIrPtlU"
      },
      "outputs": [],
      "execution_count": null
    },
    {
      "cell_type": "code",
      "source": [
        "#The first label in the dataset\n",
        "training_labels[0]"
      ],
      "metadata": {
        "execution": {
          "iopub.status.busy": "2022-11-21T22:24:12.345766Z",
          "iopub.execute_input": "2022-11-21T22:24:12.346164Z",
          "iopub.status.idle": "2022-11-21T22:24:12.354194Z",
          "shell.execute_reply.started": "2022-11-21T22:24:12.346134Z",
          "shell.execute_reply": "2022-11-21T22:24:12.352834Z"
        },
        "trusted": true,
        "id": "pGRZH12MPtlU"
      },
      "outputs": [],
      "execution_count": null
    },
    {
      "cell_type": "code",
      "source": [
        "#Check the data distribution among the classes\n",
        "print(pd.Series(training_labels).value_counts())"
      ],
      "metadata": {
        "execution": {
          "iopub.status.busy": "2022-11-21T22:24:12.356302Z",
          "iopub.execute_input": "2022-11-21T22:24:12.356715Z",
          "iopub.status.idle": "2022-11-21T22:24:12.36857Z",
          "shell.execute_reply.started": "2022-11-21T22:24:12.356672Z",
          "shell.execute_reply": "2022-11-21T22:24:12.367072Z"
        },
        "trusted": true,
        "id": "8_RF9-iyPtlU"
      },
      "outputs": [],
      "execution_count": null
    },
    {
      "cell_type": "markdown",
      "source": [
        "# **Extracting Test dataset**"
      ],
      "metadata": {
        "id": "kjzMfw16PtlU"
      }
    },
    {
      "cell_type": "code",
      "source": [
        "#Extract validation images and labels\n",
        "test_images, test_labels = split_data(test_dataset)"
      ],
      "metadata": {
        "execution": {
          "iopub.status.busy": "2022-11-21T22:24:12.370225Z",
          "iopub.execute_input": "2022-11-21T22:24:12.370683Z",
          "iopub.status.idle": "2022-11-21T22:24:12.420602Z",
          "shell.execute_reply.started": "2022-11-21T22:24:12.370619Z",
          "shell.execute_reply": "2022-11-21T22:24:12.419157Z"
        },
        "trusted": true,
        "id": "WXPh0RBjPtlU"
      },
      "outputs": [],
      "execution_count": null
    },
    {
      "cell_type": "code",
      "source": [
        "# Normalize images\n",
        "test_images = np.array(test_images, dtype=\"float\") / 255.0"
      ],
      "metadata": {
        "execution": {
          "iopub.status.busy": "2022-11-21T22:24:12.4219Z",
          "iopub.execute_input": "2022-11-21T22:24:12.422148Z",
          "iopub.status.idle": "2022-11-21T22:24:12.798753Z",
          "shell.execute_reply.started": "2022-11-21T22:24:12.422125Z",
          "shell.execute_reply": "2022-11-21T22:24:12.797486Z"
        },
        "trusted": true,
        "id": "65zFbr-4PtlU"
      },
      "outputs": [],
      "execution_count": null
    },
    {
      "cell_type": "code",
      "source": [
        "#The shape of the datasets\n",
        "print(test_images.shape)\n",
        "print(test_labels.shape)"
      ],
      "metadata": {
        "execution": {
          "iopub.status.busy": "2022-11-21T22:24:12.800274Z",
          "iopub.execute_input": "2022-11-21T22:24:12.801383Z",
          "iopub.status.idle": "2022-11-21T22:24:12.806418Z",
          "shell.execute_reply.started": "2022-11-21T22:24:12.801332Z",
          "shell.execute_reply": "2022-11-21T22:24:12.805467Z"
        },
        "trusted": true,
        "id": "USqzmzsFPtlU"
      },
      "outputs": [],
      "execution_count": null
    },
    {
      "cell_type": "code",
      "source": [
        "#The first image as a picture\n",
        "plt.imshow(test_images[0])"
      ],
      "metadata": {
        "execution": {
          "iopub.status.busy": "2022-11-21T22:24:12.807745Z",
          "iopub.execute_input": "2022-11-21T22:24:12.808032Z",
          "iopub.status.idle": "2022-11-21T22:24:13.018615Z",
          "shell.execute_reply.started": "2022-11-21T22:24:12.808006Z",
          "shell.execute_reply": "2022-11-21T22:24:13.01743Z"
        },
        "trusted": true,
        "id": "13V2TouEPtlU"
      },
      "outputs": [],
      "execution_count": null
    },
    {
      "cell_type": "code",
      "source": [
        "#The first label in the dataset\n",
        "test_labels[0]"
      ],
      "metadata": {
        "execution": {
          "iopub.status.busy": "2022-11-21T22:24:13.020013Z",
          "iopub.execute_input": "2022-11-21T22:24:13.020359Z",
          "iopub.status.idle": "2022-11-21T22:24:13.027567Z",
          "shell.execute_reply.started": "2022-11-21T22:24:13.020327Z",
          "shell.execute_reply": "2022-11-21T22:24:13.025816Z"
        },
        "trusted": true,
        "id": "otN0EyrAPtlU"
      },
      "outputs": [],
      "execution_count": null
    },
    {
      "cell_type": "code",
      "source": [
        "#Check the data distribution among the classes\n",
        "print(pd.Series(test_labels).value_counts())"
      ],
      "metadata": {
        "execution": {
          "iopub.status.busy": "2022-11-21T22:24:13.02976Z",
          "iopub.execute_input": "2022-11-21T22:24:13.030876Z",
          "iopub.status.idle": "2022-11-21T22:24:13.037579Z",
          "shell.execute_reply.started": "2022-11-21T22:24:13.030775Z",
          "shell.execute_reply": "2022-11-21T22:24:13.036886Z"
        },
        "trusted": true,
        "id": "MdogaLFFPtlU"
      },
      "outputs": [],
      "execution_count": null
    },
    {
      "cell_type": "markdown",
      "source": [
        "# **Extracting Validation dataset**"
      ],
      "metadata": {
        "id": "sPyel-NNPtlU"
      }
    },
    {
      "cell_type": "code",
      "source": [
        "#Extract validation images and labels\n",
        "val_images, val_labels = split_data(val_dataset)"
      ],
      "metadata": {
        "execution": {
          "iopub.status.busy": "2022-11-21T22:24:13.039011Z",
          "iopub.execute_input": "2022-11-21T22:24:13.039353Z",
          "iopub.status.idle": "2022-11-21T22:24:13.084934Z",
          "shell.execute_reply.started": "2022-11-21T22:24:13.03929Z",
          "shell.execute_reply": "2022-11-21T22:24:13.083884Z"
        },
        "trusted": true,
        "id": "8qEzlGdcPtlV"
      },
      "outputs": [],
      "execution_count": null
    },
    {
      "cell_type": "code",
      "source": [
        "# Normalize images\n",
        "val_images = np.array(val_images, dtype=\"float\") / 255.0"
      ],
      "metadata": {
        "execution": {
          "iopub.status.busy": "2022-11-21T22:24:13.086317Z",
          "iopub.execute_input": "2022-11-21T22:24:13.086687Z",
          "iopub.status.idle": "2022-11-21T22:24:13.391585Z",
          "shell.execute_reply.started": "2022-11-21T22:24:13.086634Z",
          "shell.execute_reply": "2022-11-21T22:24:13.390271Z"
        },
        "trusted": true,
        "id": "GSojV73aPtlV"
      },
      "outputs": [],
      "execution_count": null
    },
    {
      "cell_type": "code",
      "source": [
        "#The shape of the datasets\n",
        "print(val_images.shape)\n",
        "print(val_labels.shape)"
      ],
      "metadata": {
        "execution": {
          "iopub.status.busy": "2022-11-21T22:24:13.396194Z",
          "iopub.execute_input": "2022-11-21T22:24:13.396511Z",
          "iopub.status.idle": "2022-11-21T22:24:13.401852Z",
          "shell.execute_reply.started": "2022-11-21T22:24:13.396485Z",
          "shell.execute_reply": "2022-11-21T22:24:13.400627Z"
        },
        "trusted": true,
        "id": "UrfrpbNhPtlV"
      },
      "outputs": [],
      "execution_count": null
    },
    {
      "cell_type": "code",
      "source": [
        "#The first image as a picture\n",
        "plt.imshow(val_images[0])"
      ],
      "metadata": {
        "execution": {
          "iopub.status.busy": "2022-11-21T22:24:13.403301Z",
          "iopub.execute_input": "2022-11-21T22:24:13.403662Z",
          "iopub.status.idle": "2022-11-21T22:24:13.624383Z",
          "shell.execute_reply.started": "2022-11-21T22:24:13.403621Z",
          "shell.execute_reply": "2022-11-21T22:24:13.623136Z"
        },
        "trusted": true,
        "id": "opZj0_u1PtlV"
      },
      "outputs": [],
      "execution_count": null
    },
    {
      "cell_type": "code",
      "source": [
        "#The first label in the dataset\n",
        "val_labels[0]"
      ],
      "metadata": {
        "execution": {
          "iopub.status.busy": "2022-11-21T22:24:13.625826Z",
          "iopub.execute_input": "2022-11-21T22:24:13.626851Z",
          "iopub.status.idle": "2022-11-21T22:24:13.632773Z",
          "shell.execute_reply.started": "2022-11-21T22:24:13.626819Z",
          "shell.execute_reply": "2022-11-21T22:24:13.631893Z"
        },
        "trusted": true,
        "id": "s9u4qghSPtlV"
      },
      "outputs": [],
      "execution_count": null
    },
    {
      "cell_type": "code",
      "source": [
        "#Check the data distribution among the classes\n",
        "print(pd.Series(val_labels).value_counts())"
      ],
      "metadata": {
        "execution": {
          "iopub.status.busy": "2022-11-21T22:24:13.634116Z",
          "iopub.execute_input": "2022-11-21T22:24:13.634397Z",
          "iopub.status.idle": "2022-11-21T22:24:13.648457Z",
          "shell.execute_reply.started": "2022-11-21T22:24:13.634371Z",
          "shell.execute_reply": "2022-11-21T22:24:13.647714Z"
        },
        "trusted": true,
        "id": "Sc42BSeZPtlV"
      },
      "outputs": [],
      "execution_count": null
    },
    {
      "cell_type": "markdown",
      "source": [
        "# Model Training"
      ],
      "metadata": {
        "id": "OeR8wzekPtlV"
      }
    },
    {
      "cell_type": "code",
      "source": [
        "#Importing libraries needed for the modeling and training\n",
        "import tensorflow as tf\n",
        "from tensorflow.keras.layers import Conv2D, Flatten, Dense, Dropout, MaxPooling2D, BatchNormalization\n",
        "from tensorflow.keras.models import Sequential, load_model\n",
        "from tensorflow.keras.callbacks import EarlyStopping, Callback , ModelCheckpoint\n",
        "from tensorflow.keras.metrics import Accuracy,binary_crossentropy, FalsePositives, FalseNegatives, TruePositives, TrueNegatives\n",
        "from tensorflow.keras.preprocessing.image import ImageDataGenerator"
      ],
      "metadata": {
        "execution": {
          "iopub.status.busy": "2022-11-21T22:24:13.649497Z",
          "iopub.execute_input": "2022-11-21T22:24:13.650211Z",
          "iopub.status.idle": "2022-11-21T22:24:20.637893Z",
          "shell.execute_reply.started": "2022-11-21T22:24:13.650184Z",
          "shell.execute_reply": "2022-11-21T22:24:20.636376Z"
        },
        "trusted": true,
        "id": "YrBj6hjxPtlV"
      },
      "outputs": [],
      "execution_count": null
    },
    {
      "cell_type": "code",
      "source": [
        "#Setting the batch size for the cnn model\n",
        "bs = 32"
      ],
      "metadata": {
        "execution": {
          "iopub.status.busy": "2022-11-20T22:26:58.657626Z",
          "iopub.execute_input": "2022-11-20T22:26:58.659051Z",
          "iopub.status.idle": "2022-11-20T22:26:58.663595Z",
          "shell.execute_reply.started": "2022-11-20T22:26:58.659009Z",
          "shell.execute_reply": "2022-11-20T22:26:58.662235Z"
        },
        "trusted": true,
        "id": "z0IMHqGHPtlV"
      },
      "outputs": [],
      "execution_count": null
    },
    {
      "cell_type": "code",
      "source": [
        "#Defining Image Data Generator for image augmentation\n",
        "datagen = ImageDataGenerator(\n",
        "    rotation_range=20,\n",
        "    horizontal_flip=True,\n",
        "    vertical_flip=True,\n",
        "    shear_range=0.2,\n",
        "    fill_mode='nearest',\n",
        "    zoom_range=0.2)"
      ],
      "metadata": {
        "execution": {
          "iopub.status.busy": "2022-11-20T22:26:58.665226Z",
          "iopub.execute_input": "2022-11-20T22:26:58.665576Z",
          "iopub.status.idle": "2022-11-20T22:26:58.688423Z",
          "shell.execute_reply.started": "2022-11-20T22:26:58.665545Z",
          "shell.execute_reply": "2022-11-20T22:26:58.687112Z"
        },
        "trusted": true,
        "id": "ZYnHy_z-PtlV"
      },
      "outputs": [],
      "execution_count": null
    },
    {
      "cell_type": "markdown",
      "source": [
        "# Custom CNN Model"
      ],
      "metadata": {
        "_kg_hide-output": true,
        "id": "HlE72zOOPtlV"
      }
    },
    {
      "cell_type": "code",
      "source": [
        "#Defining the base model\n",
        "cancer_model = Sequential()\n",
        "\n",
        "#First Layer\n",
        "cancer_model.add(Conv2D(filters = 32, kernel_size = (3,3), input_shape = (224,224,3), activation = 'relu'))\n",
        "cancer_model.add(MaxPooling2D(pool_size = (2,2)))\n",
        "\n",
        "#Second Layer\n",
        "cancer_model.add(Conv2D(filters = 64, kernel_size = (3,3), padding = 'same',activation = 'relu'))\n",
        "cancer_model.add(MaxPooling2D(pool_size = (2,2)))\n",
        "\n",
        "#Third Layer\n",
        "cancer_model.add(Conv2D(filters = 128, kernel_size = (3,3), padding = 'same', activation = 'relu'))\n",
        "cancer_model.add(MaxPooling2D(pool_size = (2,2)))\n",
        "cancer_model.add(Dropout(0.4))\n",
        "\n",
        "#Fourth Layer\n",
        "cancer_model.add(Conv2D(filters = 256, kernel_size = (3,3), padding = 'same', activation = 'relu'))\n",
        "cancer_model.add(MaxPooling2D(pool_size = (2,2)))\n",
        "cancer_model.add(Dropout(0.2))\n",
        "\n",
        "#Flattening the layers\n",
        "cancer_model.add(Flatten())\n",
        "\n",
        "#Adding the dense layer\n",
        "cancer_model.add(Dense(256, activation = 'relu'))\n",
        "cancer_model.add(Dense(128, activation = 'relu'))\n",
        "cancer_model.add(Dense(1, activation = 'sigmoid'))\n",
        "\n",
        "cancer_model.summary()"
      ],
      "metadata": {
        "execution": {
          "iopub.status.busy": "2022-11-20T14:30:06.941586Z",
          "iopub.execute_input": "2022-11-20T14:30:06.941946Z",
          "iopub.status.idle": "2022-11-20T14:30:07.247344Z",
          "shell.execute_reply.started": "2022-11-20T14:30:06.941907Z",
          "shell.execute_reply": "2022-11-20T14:30:07.246147Z"
        },
        "trusted": true,
        "id": "CHWgppe8PtlV"
      },
      "outputs": [],
      "execution_count": null
    },
    {
      "cell_type": "code",
      "source": [
        "#Setting the learning rate to reduce gradually over the training period\n",
        "lr_schedule = tf.keras.optimizers.schedules.InverseTimeDecay(\n",
        "  0.001,\n",
        "  decay_steps=20*50,\n",
        "  decay_rate=1,\n",
        "  staircase=False)\n",
        "\n",
        "def get_optimizer():\n",
        "  return tf.keras.optimizers.Adam(lr_schedule)"
      ],
      "metadata": {
        "execution": {
          "iopub.status.busy": "2022-11-20T14:30:07.249307Z",
          "iopub.execute_input": "2022-11-20T14:30:07.249766Z",
          "iopub.status.idle": "2022-11-20T14:30:07.255328Z",
          "shell.execute_reply.started": "2022-11-20T14:30:07.249722Z",
          "shell.execute_reply": "2022-11-20T14:30:07.254522Z"
        },
        "trusted": true,
        "id": "fKgkO29pPtlV"
      },
      "outputs": [],
      "execution_count": null
    },
    {
      "cell_type": "code",
      "source": [
        "#Compiling the model\n",
        "cancer_model.compile(loss='binary_crossentropy', optimizer = get_optimizer(), metrics = ['accuracy'])\n",
        "early_stop = EarlyStopping(monitor='val_loss',patience=5)\n",
        "checkpoint = ModelCheckpoint(\"./Best_model/\",save_best_only=True,)"
      ],
      "metadata": {
        "execution": {
          "iopub.status.busy": "2022-11-20T14:30:07.256362Z",
          "iopub.execute_input": "2022-11-20T14:30:07.257248Z",
          "iopub.status.idle": "2022-11-20T14:30:07.277011Z",
          "shell.execute_reply.started": "2022-11-20T14:30:07.257215Z",
          "shell.execute_reply": "2022-11-20T14:30:07.276109Z"
        },
        "trusted": true,
        "id": "DS34TBNOPtlV"
      },
      "outputs": [],
      "execution_count": null
    },
    {
      "cell_type": "code",
      "source": [
        "#Fitted the model on the training and and validation dataset using the image augmentor for 200 epochs\n",
        "history = cancer_model.fit_generator(datagen.flow(training_images, training_labels, batch_size = bs),\n",
        "                                     validation_data=datagen.flow(val_images, val_labels),\n",
        "                                     epochs=200,\n",
        "                                     callbacks=[early_stop,checkpoint],\n",
        "                                     verbose = 1)"
      ],
      "metadata": {
        "execution": {
          "iopub.status.busy": "2022-11-20T14:32:22.601422Z",
          "iopub.execute_input": "2022-11-20T14:32:22.602595Z",
          "iopub.status.idle": "2022-11-20T19:00:09.98029Z",
          "shell.execute_reply.started": "2022-11-20T14:32:22.602543Z",
          "shell.execute_reply": "2022-11-20T19:00:09.979174Z"
        },
        "trusted": true,
        "id": "_fO2t-GpPtlV"
      },
      "outputs": [],
      "execution_count": null
    },
    {
      "cell_type": "code",
      "source": [
        "#Plotting the model results\n",
        "\n",
        "#Getting the accuracy\n",
        "acc = history.history['accuracy']\n",
        "val_acc = history.history['val_accuracy']\n",
        "\n",
        "#Getting the losses\n",
        "loss = history.history['loss']\n",
        "val_loss = history.history['val_loss']\n",
        "\n",
        "#No of epochs it trained\n",
        "epochs_range = history.epoch\n",
        "\n",
        "#Plotting Training and Validation accuracy\n",
        "plt.figure(figsize=(16, 6))\n",
        "plt.subplot(1, 2, 1)\n",
        "plt.plot(epochs_range, acc, label='Training Accuracy')\n",
        "plt.plot(epochs_range, val_acc, label='Validation Accuracy')\n",
        "plt.legend(loc='lower right')\n",
        "plt.title('Training and Validation Accuracy')\n",
        "\n",
        "#Plotting Training and Validation Loss\n",
        "plt.subplot(1, 2, 2)\n",
        "plt.plot(epochs_range, loss, label='Training Loss')\n",
        "plt.plot(epochs_range, val_loss, label='Validation Loss')\n",
        "plt.legend(loc='upper right')\n",
        "plt.title('Training and Validation Loss')\n",
        "plt.show()"
      ],
      "metadata": {
        "execution": {
          "iopub.status.busy": "2022-11-20T19:00:09.982764Z",
          "iopub.execute_input": "2022-11-20T19:00:09.983531Z",
          "iopub.status.idle": "2022-11-20T19:01:01.363887Z",
          "shell.execute_reply.started": "2022-11-20T19:00:09.98348Z",
          "shell.execute_reply": "2022-11-20T19:01:01.362973Z"
        },
        "trusted": true,
        "id": "5a9Btbt-PtlW"
      },
      "outputs": [],
      "execution_count": null
    },
    {
      "cell_type": "markdown",
      "source": [
        "# Performance Evaluation of custom CNN model"
      ],
      "metadata": {
        "id": "9kZENVvFPtlW"
      }
    },
    {
      "cell_type": "code",
      "source": [
        "y_pred = cancer_model.predict(test_images)"
      ],
      "metadata": {
        "execution": {
          "iopub.status.busy": "2022-11-20T19:01:01.365182Z",
          "iopub.execute_input": "2022-11-20T19:01:01.366061Z",
          "iopub.status.idle": "2022-11-20T19:01:33.624493Z",
          "shell.execute_reply.started": "2022-11-20T19:01:01.366024Z",
          "shell.execute_reply": "2022-11-20T19:01:33.623368Z"
        },
        "trusted": true,
        "id": "2AUTql9gPtlW"
      },
      "outputs": [],
      "execution_count": null
    },
    {
      "cell_type": "code",
      "source": [
        "print(y_pred)"
      ],
      "metadata": {
        "execution": {
          "iopub.status.busy": "2022-11-20T19:01:33.628631Z",
          "iopub.execute_input": "2022-11-20T19:01:33.62965Z",
          "iopub.status.idle": "2022-11-20T19:01:33.636246Z",
          "shell.execute_reply.started": "2022-11-20T19:01:33.629608Z",
          "shell.execute_reply": "2022-11-20T19:01:33.635031Z"
        },
        "trusted": true,
        "id": "W7ap0gZOPtlW"
      },
      "outputs": [],
      "execution_count": null
    },
    {
      "cell_type": "code",
      "source": [
        "#Round up model prediction to 0 and 1 and convert result to an array\n",
        "rounded = [float(np.round(x)) for x in y_pred]\n",
        "rounded_predictions = np.asarray(rounded).astype(int)\n",
        "print(rounded_predictions)"
      ],
      "metadata": {
        "execution": {
          "iopub.status.busy": "2022-11-20T19:01:33.637945Z",
          "iopub.execute_input": "2022-11-20T19:01:33.638423Z",
          "iopub.status.idle": "2022-11-20T19:01:33.656305Z",
          "shell.execute_reply.started": "2022-11-20T19:01:33.638379Z",
          "shell.execute_reply": "2022-11-20T19:01:33.655045Z"
        },
        "trusted": true,
        "id": "4IKZ0bkTPtlW"
      },
      "outputs": [],
      "execution_count": null
    },
    {
      "cell_type": "code",
      "source": [
        "#Round up model prediction to 0 and 1 and convert result to an array\n",
        "rounded = [float(np.round(x)) for x in y_pred]\n",
        "rounded_predictions = np.asarray(rounded).astype(int)\n",
        "print(rounded_predictions)"
      ],
      "metadata": {
        "execution": {
          "iopub.status.busy": "2022-11-20T19:01:33.637945Z",
          "iopub.execute_input": "2022-11-20T19:01:33.638423Z",
          "iopub.status.idle": "2022-11-20T19:01:33.656305Z",
          "shell.execute_reply.started": "2022-11-20T19:01:33.638379Z",
          "shell.execute_reply": "2022-11-20T19:01:33.655045Z"
        },
        "trusted": true,
        "id": "d2fp_RupPtlW"
      },
      "outputs": [],
      "execution_count": null
    },
    {
      "cell_type": "code",
      "source": [
        "#Classification report\n",
        "print(classification_report(test_labels, rounded_predictions))"
      ],
      "metadata": {
        "execution": {
          "iopub.status.busy": "2022-11-20T19:01:33.946254Z",
          "iopub.execute_input": "2022-11-20T19:01:33.946844Z",
          "iopub.status.idle": "2022-11-20T19:01:33.959287Z",
          "shell.execute_reply.started": "2022-11-20T19:01:33.946794Z",
          "shell.execute_reply": "2022-11-20T19:01:33.958031Z"
        },
        "trusted": true,
        "id": "7YOtw0JdPtlW"
      },
      "outputs": [],
      "execution_count": null
    },
    {
      "cell_type": "code",
      "source": [
        "#Confusion matrix\n",
        "cm = confusion_matrix(test_labels, rounded_predictions)\n",
        "print(cm)\n",
        "\n",
        "import seaborn as sns\n",
        "\n",
        "#Setting the labels\n",
        "labels = ['Benign', 'Malignant']\n",
        "\n",
        "#Plot the Confusion matrix graph\n",
        "fig= plt.figure(figsize=(8, 5))\n",
        "ax = plt.subplot()\n",
        "sns.heatmap(cm, annot=True, ax = ax, fmt='g')\n",
        "ax.set_xlabel('Predicted Labels', fontsize=10)\n",
        "ax.xaxis.set_label_position('bottom')\n",
        "plt.xticks(rotation=90)\n",
        "ax.xaxis.set_ticklabels(labels, fontsize = 5)\n",
        "ax.xaxis.tick_bottom()\n",
        "\n",
        "ax.set_ylabel('True Labels', fontsize=10)\n",
        "ax.yaxis.set_ticklabels(labels, fontsize = 10)\n",
        "plt.yticks(rotation=0)\n",
        "\n",
        "plt.title('Confusion Matrix', fontsize=15)\n",
        "\n",
        "plt.savefig('ConMat24.png')\n",
        "plt.show()"
      ],
      "metadata": {
        "execution": {
          "iopub.status.busy": "2022-11-21T22:24:45.694811Z",
          "iopub.execute_input": "2022-11-21T22:24:45.695285Z",
          "iopub.status.idle": "2022-11-21T22:24:45.943354Z",
          "shell.execute_reply.started": "2022-11-21T22:24:45.695247Z",
          "shell.execute_reply": "2022-11-21T22:24:45.941939Z"
        },
        "trusted": true,
        "id": "IDEpgIN8PtlW"
      },
      "outputs": [],
      "execution_count": null
    },
    {
      "cell_type": "code",
      "source": [
        "#Accuracy\n",
        "accuracy = accuracy_score(test_labels, rounded_predictions)\n",
        "print('Accuracy: %f' % accuracy)"
      ],
      "metadata": {
        "execution": {
          "iopub.status.busy": "2022-11-20T19:01:33.960744Z",
          "iopub.execute_input": "2022-11-20T19:01:33.961124Z",
          "iopub.status.idle": "2022-11-20T19:01:33.969215Z",
          "shell.execute_reply.started": "2022-11-20T19:01:33.961091Z",
          "shell.execute_reply": "2022-11-20T19:01:33.967852Z"
        },
        "trusted": true,
        "id": "jMut3QU1PtlW"
      },
      "outputs": [],
      "execution_count": null
    },
    {
      "cell_type": "code",
      "source": [
        "#Precision\n",
        "precision = precision_score(test_labels, rounded_predictions)\n",
        "print('Precision: %f' % precision)"
      ],
      "metadata": {
        "execution": {
          "iopub.status.busy": "2022-11-20T19:01:33.970725Z",
          "iopub.execute_input": "2022-11-20T19:01:33.971408Z",
          "iopub.status.idle": "2022-11-20T19:01:33.980793Z",
          "shell.execute_reply.started": "2022-11-20T19:01:33.971374Z",
          "shell.execute_reply": "2022-11-20T19:01:33.979475Z"
        },
        "trusted": true,
        "id": "fcGgU1dkPtlW"
      },
      "outputs": [],
      "execution_count": null
    },
    {
      "cell_type": "code",
      "source": [
        "# Recall\n",
        "recall = recall_score(test_labels, rounded_predictions, pos_label=1)\n",
        "print('Recall: %f' % recall)"
      ],
      "metadata": {
        "execution": {
          "iopub.status.busy": "2022-11-20T19:39:32.128609Z",
          "iopub.execute_input": "2022-11-20T19:39:32.129095Z",
          "iopub.status.idle": "2022-11-20T19:39:32.138606Z",
          "shell.execute_reply.started": "2022-11-20T19:39:32.129057Z",
          "shell.execute_reply": "2022-11-20T19:39:32.137314Z"
        },
        "trusted": true,
        "id": "aIyT_y8GPtlW"
      },
      "outputs": [],
      "execution_count": null
    },
    {
      "cell_type": "code",
      "source": [
        "#Specificity\n",
        "specificity = recall_score(test_labels, rounded_predictions, pos_label=0)\n",
        "print('Specificity: %f' % specificity)"
      ],
      "metadata": {
        "execution": {
          "iopub.status.busy": "2022-11-20T19:37:46.621118Z",
          "iopub.execute_input": "2022-11-20T19:37:46.621634Z",
          "iopub.status.idle": "2022-11-20T19:37:46.632346Z",
          "shell.execute_reply.started": "2022-11-20T19:37:46.621592Z",
          "shell.execute_reply": "2022-11-20T19:37:46.630892Z"
        },
        "trusted": true,
        "id": "zGo5FmL6PtlW"
      },
      "outputs": [],
      "execution_count": null
    },
    {
      "cell_type": "code",
      "source": [
        "#F1-score\n",
        "F1_score = f1_score(test_labels, rounded_predictions)\n",
        "print('F1_score: %f' % F1_score)"
      ],
      "metadata": {
        "execution": {
          "iopub.status.busy": "2022-11-20T19:01:33.9973Z",
          "iopub.execute_input": "2022-11-20T19:01:33.997733Z",
          "iopub.status.idle": "2022-11-20T19:01:34.008159Z",
          "shell.execute_reply.started": "2022-11-20T19:01:33.997687Z",
          "shell.execute_reply": "2022-11-20T19:01:34.006954Z"
        },
        "trusted": true,
        "id": "JSMbXLelPtlW"
      },
      "outputs": [],
      "execution_count": null
    },
    {
      "cell_type": "code",
      "source": [
        "#Save the model\n",
        "cancer_model.save(\"Final_custom_breast_cancer_model.h5\")"
      ],
      "metadata": {
        "execution": {
          "iopub.status.busy": "2022-11-20T19:57:14.818319Z",
          "iopub.execute_input": "2022-11-20T19:57:14.818857Z",
          "iopub.status.idle": "2022-11-20T19:57:15.116685Z",
          "shell.execute_reply.started": "2022-11-20T19:57:14.818796Z",
          "shell.execute_reply": "2022-11-20T19:57:15.115716Z"
        },
        "trusted": true,
        "id": "Yhc5rF6HPtlW"
      },
      "outputs": [],
      "execution_count": null
    },
    {
      "cell_type": "markdown",
      "source": [
        "from tensorflow.keras.models import load_model\n",
        "new_cancer_model = load_model(\"custom_breast_cancer_model.h5\")"
      ],
      "metadata": {
        "execution": {
          "iopub.status.busy": "2022-11-20T19:01:34.375387Z",
          "iopub.execute_input": "2022-11-20T19:01:34.375741Z",
          "iopub.status.idle": "2022-11-20T19:01:34.7216Z",
          "shell.execute_reply.started": "2022-11-20T19:01:34.375711Z",
          "shell.execute_reply": "2022-11-20T19:01:34.719868Z"
        },
        "id": "_ixm0SkrPtlX"
      }
    },
    {
      "cell_type": "markdown",
      "source": [
        "#Check if the new model has the right validation loss and accuracy information on 16 steps\n",
        "results = new_cancer_model.evaluate_generator(datagen.flow(val_images, val_labels), steps=16)\n",
        "print(\"Validation and Accuracy are \", results)"
      ],
      "metadata": {
        "id": "tv3ahqclPtlX"
      }
    },
    {
      "cell_type": "markdown",
      "source": [
        "#Continue to train the Model for 50 epochs\n",
        "new_history = new_cancer_model.fit_generator(datagen.flow(training_images, training_labels, batch_size = bs),\n",
        "                           validation_data=datagen.flow(val_images, val_labels), epochs=50,\n",
        "                 callbacks=[early_stop,checkpoint], verbose = 1)"
      ],
      "metadata": {
        "id": "xN4VzPY3PtlX"
      }
    },
    {
      "cell_type": "markdown",
      "source": [
        "# VGG16 Modelling"
      ],
      "metadata": {
        "execution": {
          "iopub.status.busy": "2022-11-20T19:01:34.734683Z",
          "iopub.status.idle": "2022-11-20T19:01:34.735349Z",
          "shell.execute_reply.started": "2022-11-20T19:01:34.734969Z",
          "shell.execute_reply": "2022-11-20T19:01:34.735002Z"
        },
        "id": "3MaNnzZUPtlX"
      }
    },
    {
      "cell_type": "code",
      "source": [
        "from tensorflow.keras.applications.vgg16 import VGG16"
      ],
      "metadata": {
        "execution": {
          "iopub.status.busy": "2022-11-20T22:26:58.690205Z",
          "iopub.execute_input": "2022-11-20T22:26:58.690666Z",
          "iopub.status.idle": "2022-11-20T22:26:58.703757Z",
          "shell.execute_reply.started": "2022-11-20T22:26:58.690623Z",
          "shell.execute_reply": "2022-11-20T22:26:58.702511Z"
        },
        "trusted": true,
        "id": "sDw43ZNKPtlX"
      },
      "outputs": [],
      "execution_count": null
    },
    {
      "cell_type": "code",
      "source": [
        "#Loading the model\n",
        "base_model = VGG16(\n",
        "    include_top=False,\n",
        "    weights=\"imagenet\",\n",
        "    input_shape=(224, 224, 3),\n",
        ")\n",
        "\n",
        "#Making sure the layers of the VGG16 model are not retrained\n",
        "for layer in base_model.layers:\n",
        "    layer.trainable = False"
      ],
      "metadata": {
        "execution": {
          "iopub.status.busy": "2022-11-20T22:26:58.705406Z",
          "iopub.execute_input": "2022-11-20T22:26:58.705785Z",
          "iopub.status.idle": "2022-11-20T22:26:59.678268Z",
          "shell.execute_reply.started": "2022-11-20T22:26:58.705751Z",
          "shell.execute_reply": "2022-11-20T22:26:59.677014Z"
        },
        "trusted": true,
        "id": "0TL-YWx3PtlX"
      },
      "outputs": [],
      "execution_count": null
    },
    {
      "cell_type": "code",
      "source": [
        "#Adding custom top layers\n",
        "VGG16_model = Sequential()\n",
        "VGG16_model.add(base_model)\n",
        "\n",
        "VGG16_model.add(Flatten())\n",
        "VGG16_model.add(BatchNormalization())\n",
        "#Adding two dense layer and dropout\n",
        "VGG16_model.add(Dense(256,activation='relu'))\n",
        "VGG16_model.add(Dropout(0.5))\n",
        "VGG16_model.add(Dense(128,activation='relu'))\n",
        "VGG16_model.add(Dropout(0.5))\n",
        "VGG16_model.add(Dense(1,activation='sigmoid'))\n",
        "VGG16_model.summary()"
      ],
      "metadata": {
        "execution": {
          "iopub.status.busy": "2022-11-20T22:29:48.828664Z",
          "iopub.execute_input": "2022-11-20T22:29:48.829088Z",
          "iopub.status.idle": "2022-11-20T22:29:48.995571Z",
          "shell.execute_reply.started": "2022-11-20T22:29:48.829054Z",
          "shell.execute_reply": "2022-11-20T22:29:48.994211Z"
        },
        "trusted": true,
        "id": "qX6prbTGPtlX"
      },
      "outputs": [],
      "execution_count": null
    },
    {
      "cell_type": "code",
      "source": [
        "#Compiling the model\n",
        "VGG16_model.compile(optimizer='adam',loss='binary_crossentropy' ,metrics=['accuracy'])\n",
        "early_stop = EarlyStopping(monitor='val_loss',patience=5)\n",
        "checkpoint = ModelCheckpoint(\"./Best_model/\",save_best_only=True,)"
      ],
      "metadata": {
        "execution": {
          "iopub.status.busy": "2022-11-20T22:29:52.408163Z",
          "iopub.execute_input": "2022-11-20T22:29:52.40869Z",
          "iopub.status.idle": "2022-11-20T22:29:52.435933Z",
          "shell.execute_reply.started": "2022-11-20T22:29:52.408627Z",
          "shell.execute_reply": "2022-11-20T22:29:52.434254Z"
        },
        "trusted": true,
        "id": "nURVvUGJPtlX"
      },
      "outputs": [],
      "execution_count": null
    },
    {
      "cell_type": "code",
      "source": [
        "#Fitted the VGG16 model on the training and and validation dataset using the image augmentor for 50 epochs\n",
        "VGG16_history = VGG16_model.fit_generator(datagen.flow(training_images, training_labels, batch_size = bs),\n",
        "                                     validation_data=datagen.flow(val_images, val_labels),\n",
        "                                     epochs=50,\n",
        "                                     callbacks=[early_stop,checkpoint],\n",
        "                                     verbose = 1)"
      ],
      "metadata": {
        "execution": {
          "iopub.status.busy": "2022-11-20T22:29:54.459217Z",
          "iopub.execute_input": "2022-11-20T22:29:54.459926Z",
          "iopub.status.idle": "2022-11-21T07:28:37.591771Z",
          "shell.execute_reply.started": "2022-11-20T22:29:54.45989Z",
          "shell.execute_reply": "2022-11-21T07:28:37.590415Z"
        },
        "trusted": true,
        "id": "AU1CkgiUPtlX"
      },
      "outputs": [],
      "execution_count": null
    },
    {
      "cell_type": "code",
      "source": [
        "#Plotting the model results\n",
        "\n",
        "#Getting the accuracy\n",
        "acc = VGG16_history.history['accuracy']\n",
        "val_acc = VGG16_history.history['val_accuracy']\n",
        "\n",
        "#Getting the losses\n",
        "loss = VGG16_history.history['loss']\n",
        "val_loss = VGG16_history.history['val_loss']\n",
        "\n",
        "#No of epochs it trained\n",
        "epochs_range = VGG16_history.epoch\n",
        "\n",
        "#Plotting Training and Validation accuracy\n",
        "plt.figure(figsize=(16, 6))\n",
        "plt.subplot(1, 2, 1)\n",
        "plt.plot(epochs_range, acc, label='Training Accuracy')\n",
        "plt.plot(epochs_range, val_acc, label='Validation Accuracy')\n",
        "plt.legend(loc='lower right')\n",
        "plt.title('Training and Validation Accuracy')\n",
        "\n",
        "#Plotting Training and Validation Loss\n",
        "plt.subplot(1, 2, 2)\n",
        "plt.plot(epochs_range, loss, label='Training Loss')\n",
        "plt.plot(epochs_range, val_loss, label='Validation Loss')\n",
        "plt.legend(loc='upper right')\n",
        "plt.title('Training and Validation Loss')\n",
        "plt.show()"
      ],
      "metadata": {
        "execution": {
          "iopub.status.busy": "2022-11-21T07:37:04.744543Z",
          "iopub.execute_input": "2022-11-21T07:37:04.74513Z",
          "iopub.status.idle": "2022-11-21T07:37:05.318176Z",
          "shell.execute_reply.started": "2022-11-21T07:37:04.745089Z",
          "shell.execute_reply": "2022-11-21T07:37:05.316736Z"
        },
        "trusted": true,
        "id": "t1cnCjwOPtlX"
      },
      "outputs": [],
      "execution_count": null
    },
    {
      "cell_type": "markdown",
      "source": [
        "# Performance Evaluation of VGG16 CNN model"
      ],
      "metadata": {
        "id": "spj0tI49PtlX"
      }
    },
    {
      "cell_type": "code",
      "source": [
        "vgg16_y_pred = VGG16_model.predict(test_images)"
      ],
      "metadata": {
        "execution": {
          "iopub.status.busy": "2022-11-21T07:37:14.435286Z",
          "iopub.execute_input": "2022-11-21T07:37:14.435703Z",
          "iopub.status.idle": "2022-11-21T07:44:25.040367Z",
          "shell.execute_reply.started": "2022-11-21T07:37:14.435669Z",
          "shell.execute_reply": "2022-11-21T07:44:25.039192Z"
        },
        "trusted": true,
        "id": "ks1jCIApPtlX"
      },
      "outputs": [],
      "execution_count": null
    },
    {
      "cell_type": "code",
      "source": [
        "print(vgg16_y_pred)"
      ],
      "metadata": {
        "execution": {
          "iopub.status.busy": "2022-11-21T07:44:25.044112Z",
          "iopub.execute_input": "2022-11-21T07:44:25.044976Z",
          "iopub.status.idle": "2022-11-21T07:44:25.052775Z",
          "shell.execute_reply.started": "2022-11-21T07:44:25.044924Z",
          "shell.execute_reply": "2022-11-21T07:44:25.051615Z"
        },
        "trusted": true,
        "id": "bO5mOgmvPtlX"
      },
      "outputs": [],
      "execution_count": null
    },
    {
      "cell_type": "code",
      "source": [
        "#Round up model prediction to 0 and 1 and convert result to an array\n",
        "rounded = [float(np.round(x)) for x in vgg16_y_pred]\n",
        "rounded_vgg16 = np.asarray(rounded).astype(int)\n",
        "print(rounded_vgg16)"
      ],
      "metadata": {
        "execution": {
          "iopub.status.busy": "2022-11-21T07:44:25.05429Z",
          "iopub.execute_input": "2022-11-21T07:44:25.055279Z",
          "iopub.status.idle": "2022-11-21T07:44:25.075902Z",
          "shell.execute_reply.started": "2022-11-21T07:44:25.055243Z",
          "shell.execute_reply": "2022-11-21T07:44:25.074945Z"
        },
        "trusted": true,
        "id": "QVd5Gv-kPtlX"
      },
      "outputs": [],
      "execution_count": null
    },
    {
      "cell_type": "code",
      "source": [
        "#Confusion matrix\n",
        "cm = confusion_matrix(test_labels, rounded_vgg16)\n",
        "print(cm)\n",
        "\n",
        "import seaborn as sns\n",
        "\n",
        "#Setting the labels\n",
        "labels = ['Benign', 'Malignant']\n",
        "\n",
        "#Plot the Confusion matrix graph\n",
        "fig= plt.figure(figsize=(8, 5))\n",
        "ax = plt.subplot()\n",
        "sns.heatmap(cm, annot=True, ax = ax, fmt='g')\n",
        "ax.set_xlabel('Predicted Labels', fontsize=10)\n",
        "ax.xaxis.set_label_position('bottom')\n",
        "plt.xticks(rotation=90)\n",
        "ax.xaxis.set_ticklabels(labels, fontsize = 5)\n",
        "ax.xaxis.tick_bottom()\n",
        "\n",
        "ax.set_ylabel('True Labels', fontsize=10)\n",
        "ax.yaxis.set_ticklabels(labels, fontsize = 10)\n",
        "plt.yticks(rotation=0)\n",
        "\n",
        "plt.title('Confusion Matrix', fontsize=15)\n",
        "\n",
        "plt.savefig('ConMat24.png')\n",
        "plt.show()"
      ],
      "metadata": {
        "execution": {
          "iopub.status.busy": "2022-11-21T22:36:15.360139Z",
          "iopub.execute_input": "2022-11-21T22:36:15.360717Z",
          "iopub.status.idle": "2022-11-21T22:36:15.612811Z",
          "shell.execute_reply.started": "2022-11-21T22:36:15.360683Z",
          "shell.execute_reply": "2022-11-21T22:36:15.611462Z"
        },
        "trusted": true,
        "id": "T1e1uyJCPtlY"
      },
      "outputs": [],
      "execution_count": null
    },
    {
      "cell_type": "code",
      "source": [
        "#Classification report\n",
        "print(classification_report(test_labels, rounded_vgg16))"
      ],
      "metadata": {
        "execution": {
          "iopub.status.busy": "2022-11-21T07:44:25.078459Z",
          "iopub.execute_input": "2022-11-21T07:44:25.078968Z",
          "iopub.status.idle": "2022-11-21T07:44:25.093894Z",
          "shell.execute_reply.started": "2022-11-21T07:44:25.078927Z",
          "shell.execute_reply": "2022-11-21T07:44:25.092405Z"
        },
        "trusted": true,
        "id": "OWkw9XvePtlY"
      },
      "outputs": [],
      "execution_count": null
    },
    {
      "cell_type": "code",
      "source": [
        "#Accuracy\n",
        "accuracy = accuracy_score(test_labels, rounded_vgg16)\n",
        "print('Accuracy: %f' % accuracy)"
      ],
      "metadata": {
        "execution": {
          "iopub.status.busy": "2022-11-21T07:44:25.095923Z",
          "iopub.execute_input": "2022-11-21T07:44:25.096291Z",
          "iopub.status.idle": "2022-11-21T07:44:25.103432Z",
          "shell.execute_reply.started": "2022-11-21T07:44:25.096258Z",
          "shell.execute_reply": "2022-11-21T07:44:25.102454Z"
        },
        "trusted": true,
        "id": "GZGPzV_iPtlY"
      },
      "outputs": [],
      "execution_count": null
    },
    {
      "cell_type": "code",
      "source": [
        "#Precision\n",
        "precision = precision_score(test_labels, rounded_vgg16)\n",
        "print('Precision: %f' % precision)"
      ],
      "metadata": {
        "execution": {
          "iopub.status.busy": "2022-11-21T07:44:25.104645Z",
          "iopub.execute_input": "2022-11-21T07:44:25.105685Z",
          "iopub.status.idle": "2022-11-21T07:44:25.121889Z",
          "shell.execute_reply.started": "2022-11-21T07:44:25.105641Z",
          "shell.execute_reply": "2022-11-21T07:44:25.120607Z"
        },
        "trusted": true,
        "id": "dvhnSVp6PtlY"
      },
      "outputs": [],
      "execution_count": null
    },
    {
      "cell_type": "code",
      "source": [
        "# Recall\n",
        "recall = recall_score(test_labels, rounded_vgg16, pos_label=1)\n",
        "print('Recall: %f' % recall)"
      ],
      "metadata": {
        "execution": {
          "iopub.status.busy": "2022-11-21T07:44:25.123332Z",
          "iopub.execute_input": "2022-11-21T07:44:25.124129Z",
          "iopub.status.idle": "2022-11-21T07:44:25.135352Z",
          "shell.execute_reply.started": "2022-11-21T07:44:25.124092Z",
          "shell.execute_reply": "2022-11-21T07:44:25.134063Z"
        },
        "trusted": true,
        "id": "jZ1Q85oBPtlY"
      },
      "outputs": [],
      "execution_count": null
    },
    {
      "cell_type": "code",
      "source": [
        "#Specificity\n",
        "specificity = recall_score(test_labels, rounded_vgg16, pos_label=0)\n",
        "print('Specificity: %f' % specificity)"
      ],
      "metadata": {
        "execution": {
          "iopub.status.busy": "2022-11-21T07:44:25.137124Z",
          "iopub.execute_input": "2022-11-21T07:44:25.137481Z",
          "iopub.status.idle": "2022-11-21T07:44:25.149116Z",
          "shell.execute_reply.started": "2022-11-21T07:44:25.137451Z",
          "shell.execute_reply": "2022-11-21T07:44:25.147875Z"
        },
        "trusted": true,
        "id": "NaHquzPePtlY"
      },
      "outputs": [],
      "execution_count": null
    },
    {
      "cell_type": "code",
      "source": [
        "#F1-score\n",
        "F1_score = f1_score(test_labels, rounded_vgg16)\n",
        "print('F1_score: %f' % F1_score)"
      ],
      "metadata": {
        "execution": {
          "iopub.status.busy": "2022-11-21T07:44:25.150516Z",
          "iopub.execute_input": "2022-11-21T07:44:25.151552Z",
          "iopub.status.idle": "2022-11-21T07:44:25.162366Z",
          "shell.execute_reply.started": "2022-11-21T07:44:25.151513Z",
          "shell.execute_reply": "2022-11-21T07:44:25.160906Z"
        },
        "trusted": true,
        "id": "joVRqJLYPtlY"
      },
      "outputs": [],
      "execution_count": null
    },
    {
      "cell_type": "code",
      "source": [
        "#Save the model\n",
        "VGG16_model.save(\"VGG16_breast_cancer_model.h5\")"
      ],
      "metadata": {
        "execution": {
          "iopub.status.busy": "2022-11-21T07:52:54.676812Z",
          "iopub.execute_input": "2022-11-21T07:52:54.677294Z",
          "iopub.status.idle": "2022-11-21T07:52:55.081519Z",
          "shell.execute_reply.started": "2022-11-21T07:52:54.677257Z",
          "shell.execute_reply": "2022-11-21T07:52:55.080426Z"
        },
        "trusted": true,
        "id": "msO5hbKCPtlY"
      },
      "outputs": [],
      "execution_count": null
    },
    {
      "cell_type": "markdown",
      "source": [
        "code for loading the model"
      ],
      "metadata": {
        "id": "R9EWzJPyPtlY"
      }
    },
    {
      "cell_type": "markdown",
      "source": [
        "from tensorflow.keras.models import load_model\n",
        "custom_cancer_model = load_model(\"../input/my-trained-models/Final_custom_breast_cancer_model.h5\")"
      ],
      "metadata": {
        "execution": {
          "iopub.status.busy": "2022-11-21T22:24:20.639389Z",
          "iopub.execute_input": "2022-11-21T22:24:20.640141Z",
          "iopub.status.idle": "2022-11-21T22:24:23.340309Z",
          "shell.execute_reply.started": "2022-11-21T22:24:20.640105Z",
          "shell.execute_reply": "2022-11-21T22:24:23.338965Z"
        },
        "id": "qol07WmcPtlY"
      }
    },
    {
      "cell_type": "markdown",
      "source": [
        "#Loading the VGG16 model\n",
        "vgg16_cancer_model = load_model(\"../input/my-trained-models/VGG16_breast_cancer_model.h5\")"
      ],
      "metadata": {
        "execution": {
          "iopub.status.busy": "2022-11-21T22:28:27.406454Z",
          "iopub.execute_input": "2022-11-21T22:28:27.406934Z",
          "iopub.status.idle": "2022-11-21T22:28:28.930705Z",
          "shell.execute_reply.started": "2022-11-21T22:28:27.406894Z",
          "shell.execute_reply": "2022-11-21T22:28:28.929627Z"
        },
        "id": "Qai8bSduPtlY"
      }
    }
  ]
}